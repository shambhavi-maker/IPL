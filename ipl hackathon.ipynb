{
 "cells": [
  {
   "cell_type": "code",
   "execution_count": 1,
   "id": "59be74b2",
   "metadata": {},
   "outputs": [],
   "source": [
    "import pandas as pd \n",
    "import numpy as np \n",
    "import matplotlib.pyplot as plt "
   ]
  },
  {
   "cell_type": "code",
   "execution_count": 2,
   "id": "3de15d72",
   "metadata": {},
   "outputs": [],
   "source": [
    "deliveries_df=pd.read_csv(\"deliveries.csv\")\n",
    "matches_df=pd.read_csv(\"matches.csv\")"
   ]
  },
  {
   "cell_type": "code",
   "execution_count": 3,
   "id": "57b2430d",
   "metadata": {},
   "outputs": [],
   "source": [
    "merged_data = pd.merge(deliveries_df, matches_df, how='inner', left_on='match_id', right_on='id')"
   ]
  },
  {
   "cell_type": "code",
   "execution_count": 4,
   "id": "8391d4e3",
   "metadata": {},
   "outputs": [
    {
     "data": {
      "text/plain": [
       "match_id                 0\n",
       "inning                   0\n",
       "batting_team             0\n",
       "bowling_team             0\n",
       "over                     0\n",
       "ball                     0\n",
       "batsman                  0\n",
       "non_striker              0\n",
       "bowler                   0\n",
       "is_super_over            0\n",
       "wide_runs                0\n",
       "bye_runs                 0\n",
       "legbye_runs              0\n",
       "noball_runs              0\n",
       "penalty_runs             0\n",
       "batsman_runs             0\n",
       "extra_runs               0\n",
       "total_runs               0\n",
       "player_dismissed    170244\n",
       "dismissal_kind      170244\n",
       "fielder             172630\n",
       "id                       0\n",
       "season                   0\n",
       "city                  1700\n",
       "date                     0\n",
       "team1                    0\n",
       "team2                    0\n",
       "toss_winner              0\n",
       "toss_decision            0\n",
       "result                   0\n",
       "dl_applied               0\n",
       "winner                 372\n",
       "win_by_runs              0\n",
       "win_by_wickets           0\n",
       "player_of_match        372\n",
       "venue                    0\n",
       "umpire1                500\n",
       "umpire2                500\n",
       "umpire3             150712\n",
       "dtype: int64"
      ]
     },
     "execution_count": 4,
     "metadata": {},
     "output_type": "execute_result"
    }
   ],
   "source": [
    "# Assuming your DataFrame is named 'merged_data'\n",
    "merged_data.isnull().sum()"
   ]
  },
  {
   "cell_type": "code",
   "execution_count": 5,
   "id": "4f0b2990",
   "metadata": {},
   "outputs": [
    {
     "name": "stdout",
     "output_type": "stream",
     "text": [
      "Column with the most missing values: fielder\n"
     ]
    }
   ],
   "source": [
    "# Assuming your DataFrame is named 'merged_data'\n",
    "missing_values = merged_data.isnull().sum()\n",
    "\n",
    "# Find the column with the most missing values\n",
    "column_with_most_missing = missing_values.idxmax()\n",
    "\n",
    "print(\"Column with the most missing values:\", column_with_most_missing)\n"
   ]
  },
  {
   "cell_type": "code",
   "execution_count": 6,
   "id": "94264b32",
   "metadata": {},
   "outputs": [
    {
     "name": "stdout",
     "output_type": "stream",
     "text": [
      "City hosting most number of seasons: Delhi\n"
     ]
    }
   ],
   "source": [
    "# Group by 'city' and count the unique seasons\n",
    "city_season_count = matches_df.groupby('city')['season'].nunique()\n",
    "\n",
    "# Find the city with the maximum number of unique seasons\n",
    "city_with_most_seasons = city_season_count.idxmax()\n",
    "\n",
    "print(\"City hosting most number of seasons:\", city_with_most_seasons)\n"
   ]
  },
  {
   "cell_type": "code",
   "execution_count": 7,
   "id": "70cdb53f",
   "metadata": {},
   "outputs": [
    {
     "name": "stdout",
     "output_type": "stream",
     "text": [
      "Year with the most number of matches: 2013\n"
     ]
    }
   ],
   "source": [
    "# Group by 'season' and count the number of matches\n",
    "matches_per_year = matches_df.groupby('season')['id'].count()\n",
    "\n",
    "# Find the year with the maximum number of matches\n",
    "year_with_most_matches = matches_per_year.idxmax()\n",
    "\n",
    "print(\"Year with the most number of matches:\", year_with_most_matches)\n"
   ]
  },
  {
   "cell_type": "code",
   "execution_count": 8,
   "id": "13df0c0a",
   "metadata": {},
   "outputs": [
    {
     "name": "stdout",
     "output_type": "stream",
     "text": [
      "Maximum wins by Mumbai Indians in 2011: 10\n"
     ]
    }
   ],
   "source": [
    "# Filter data for Mumbai Indians in 2011\n",
    "mi_2011_matches = matches_df[(matches_df['season'] == 2011) & ((matches_df['team1'] == 'Mumbai Indians') | (matches_df['team2'] == 'Mumbai Indians'))]\n",
    "\n",
    "# Count the number of wins by Mumbai Indians in 2011\n",
    "mi_2011_wins = mi_2011_matches[mi_2011_matches['winner'] == 'Mumbai Indians'].shape[0]\n",
    "\n",
    "print(\"Maximum wins by Mumbai Indians in 2011:\", mi_2011_wins)\n"
   ]
  },
  {
   "cell_type": "code",
   "execution_count": 9,
   "id": "6c2b2bbf",
   "metadata": {},
   "outputs": [
    {
     "name": "stdout",
     "output_type": "stream",
     "text": [
      "Percentage of choosing to bat: 38.75661375661375\n",
      "Percentage of choosing to field: 61.24338624338625\n"
     ]
    }
   ],
   "source": [
    "# Calculate the percentage of each toss decision\n",
    "toss_decision_percentage = matches_df['toss_decision'].value_counts(normalize=True) * 100\n",
    "\n",
    "print(\"Percentage of choosing to bat:\", toss_decision_percentage['bat'])\n",
    "print(\"Percentage of choosing to field:\", toss_decision_percentage['field'])\n"
   ]
  },
  {
   "cell_type": "code",
   "execution_count": 10,
   "id": "5f787e9c",
   "metadata": {},
   "outputs": [
    {
     "name": "stdout",
     "output_type": "stream",
     "text": [
      "Years with the most number of wins when batting second: [2016]\n"
     ]
    }
   ],
   "source": [
    "# Filter data for matches where the toss decision was to bat second and the team won\n",
    "batting_second_wins = matches_df[(matches_df['toss_decision'] == 'field') & (matches_df['winner'] == matches_df['team2'])]\n",
    "\n",
    "# Group by season and count the number of matches won by batting second in each season\n",
    "batting_second_wins_per_year = batting_second_wins.groupby('season')['id'].count()\n",
    "\n",
    "# Find the years with the most number of wins when batting second\n",
    "years_with_most_batting_second_wins = batting_second_wins_per_year[batting_second_wins_per_year == batting_second_wins_per_year.max()]\n",
    "\n",
    "print(\"Years with the most number of wins when batting second:\", years_with_most_batting_second_wins.index.tolist())\n"
   ]
  },
  {
   "cell_type": "code",
   "execution_count": 11,
   "id": "c434bff7",
   "metadata": {},
   "outputs": [
    {
     "data": {
      "image/png": "[encoded data removed]",
      "text/plain": [
       "<Figure size 640x480 with 1 Axes>"
      ]
     },
     "metadata": {},
     "output_type": "display_data"
    }
   ],
   "source": [
    "# Filter data for matches where the toss decision was to bat second and the team won\n",
    "batting_second_wins = matches_df[(matches_df['toss_decision'] == 'field') & (matches_df['winner'] == matches_df['team2'])]\n",
    "\n",
    "# Group by season and count the number of matches won by batting second in each season\n",
    "batting_second_wins_per_year = batting_second_wins.groupby('season')['id'].count()\n",
    "\n",
    "# Plotting a bar chart\n",
    "plt.bar(batting_second_wins_per_year.index, batting_second_wins_per_year)\n",
    "plt.xlabel('Year')\n",
    "plt.ylabel('Number of Wins when Batting Second')\n",
    "plt.title('Number of Wins when Batting Second in Each Year')\n",
    "plt.show()\n"
   ]
  },
  {
   "cell_type": "code",
   "execution_count": 12,
   "id": "019c112e",
   "metadata": {},
   "outputs": [],
   "source": [
    "batting_second_wins = matches_df[(matches_df['toss_decision'] == 'field') & (matches_df['winner'] == matches_df['team2'])]\n",
    "\n",
    "# Group by season and count the number of matches won by batting second in each season\n",
    "batting_second_wins_per_year = batting_second_wins.groupby('season')['id'].count()"
   ]
  },
  {
   "cell_type": "code",
   "execution_count": 13,
   "id": "1966ba4b",
   "metadata": {},
   "outputs": [
    {
     "data": {
      "text/plain": [
       "season\n",
       "2010    10\n",
       "2009    14\n",
       "2015    14\n",
       "2013    15\n",
       "2012    18\n",
       "2008    19\n",
       "2014    24\n",
       "2011    27\n",
       "2018    27\n",
       "2017    28\n",
       "2019    31\n",
       "2016    32\n",
       "Name: id, dtype: int64"
      ]
     },
     "execution_count": 13,
     "metadata": {},
     "output_type": "execute_result"
    }
   ],
   "source": [
    "batting_second_wins_per_year.sort_values(ascending=True)"
   ]
  },
  {
   "cell_type": "code",
   "execution_count": 14,
   "id": "988d30da",
   "metadata": {},
   "outputs": [],
   "source": [
    "merdata = pd.merge(deliveries_df, matches_df, how='inner', left_on='match_id', right_on='id')\n",
    "merdata=merdata.dropna()"
   ]
  },
  {
   "cell_type": "code",
   "execution_count": 15,
   "id": "197e9b55",
   "metadata": {},
   "outputs": [
    {
     "name": "stdout",
     "output_type": "stream",
     "text": [
      "Answer 12: SL Malinga\n"
     ]
    }
   ],
   "source": [
    "#Most number of wickets taken by a bowler\n",
    "most_wickets_bowler = deliveries_df[deliveries_df['dismissal_kind'].notnull() & (deliveries_df['dismissal_kind'] != 'run out')]\n",
    "most_wickets_bowler = most_wickets_bowler['bowler'].value_counts().idxmax()\n",
    "answer_12 = most_wickets_bowler\n",
    "print(\"Answer 12:\", answer_12)"
   ]
  },
  {
   "cell_type": "code",
   "execution_count": 17,
   "id": "24e2b778",
   "metadata": {},
   "outputs": [
    {
     "name": "stdout",
     "output_type": "stream",
     "text": [
      "Answer 14: SL Malinga\n"
     ]
    }
   ],
   "source": [
    "#Bowlers with the maximum number of extras\n",
    "bowlers_max_extras = deliveries_df[deliveries_df['extra_runs'] > 0]['bowler'].value_counts().idxmax()\n",
    "answer_14 = bowlers_max_extras\n",
    "print(\"Answer 14:\", answer_14)"
   ]
  },
  {
   "cell_type": "code",
   "execution_count": 18,
   "id": "bb9fefac",
   "metadata": {},
   "outputs": [
    {
     "name": "stdout",
     "output_type": "stream",
     "text": [
      "Answer 15: Eden Gardens\n"
     ]
    }
   ],
   "source": [
    "#Venue that has hosted the most number of IPL matches\n",
    "venue_most_matches = matches_df['venue'].value_counts().idxmax()\n",
    "answer_15 = venue_most_matches\n",
    "print(\"Answer 15:\", answer_15)"
   ]
  },
  {
   "cell_type": "code",
   "execution_count": 20,
   "id": "9f4da427",
   "metadata": {},
   "outputs": [
    {
     "name": "stdout",
     "output_type": "stream",
     "text": [
      "Answer 17: ['MS Dhoni', 'RG Sharma', 'KD Karthik']\n"
     ]
    }
   ],
   "source": [
    "#Top three batsmen with the most number of run-outs across seasons\n",
    "batsmen_run_out = deliveries_df[deliveries_df['dismissal_kind'] == 'run out']['batsman'].value_counts().head(3).index.tolist()\n",
    "answer_17 = batsmen_run_out\n",
    "print(\"Answer 17:\", answer_17)"
   ]
  },
  {
   "cell_type": "code",
   "execution_count": null,
   "id": "bd1297c3",
   "metadata": {},
   "outputs": [],
   "source": [
    "#Total runs scored by V Kohli when the bowler was JJ Bumrah\n",
    "kohli_runs_vs_bumrah = deliveries_df[(deliveries_df['batsman'] == 'V Kohli') & (deliveries_df['bowler'] == 'JJ Bumrah')]['batsman_runs'].sum()\n",
    "answer_18 = kohli_runs_vs_bumrah\n",
    "print(\"Answer 18:\", answer_18)"
   ]
  },
  {
   "cell_type": "code",
   "execution_count": 21,
   "id": "547234df",
   "metadata": {},
   "outputs": [
    {
     "name": "stdout",
     "output_type": "stream",
     "text": [
      "Answer 19: SK Raina\n"
     ]
    }
   ],
   "source": [
    "#Player dismissed the maximum number of times via caught and bowled across all seasons\n",
    "caught_and_bowled_player = deliveries_df[deliveries_df['dismissal_kind'] == 'caught and bowled']['batsman'].value_counts().idxmax()\n",
    "answer_19 = caught_and_bowled_player\n",
    "print(\"Answer 19:\", answer_19)"
   ]
  },
  {
   "cell_type": "code",
   "execution_count": 22,
   "id": "1fdd3e66",
   "metadata": {},
   "outputs": [],
   "source": [
    "# Assuming deliveries_df contains the deliveries dataset and matches_df contains the matches dataset\n",
    "\n",
    "# Filter data for the year 2019\n",
    "deliveries_2019 = deliveries_df[deliveries_df['match_id'].isin(matches_df[matches_df['season'] == 2019]['id'])]\n",
    "\n",
    "# Calculate total runs, 6's, and 4's for each batsman in 2019\n",
    "batsman_runs_2019 = deliveries_2019.groupby('batsman')['batsman_runs'].sum()\n",
    "batsman_sixes_2019 = deliveries_2019[deliveries_2019['batsman_runs'] == 6].groupby('batsman')['batsman_runs'].count()\n",
    "batsman_fours_2019 = deliveries_2019[deliveries_2019['batsman_runs'] == 4].groupby('batsman')['batsman_runs'].count()\n",
    "\n",
    "# Calculate total runs by hitting 6's and 4's\n",
    "batsman_sixes_fours_2019 = batsman_runs_2019 + (batsman_sixes_2019 * 6) + (batsman_fours_2019 * 4)\n",
    "\n",
    "# Find the batsman with the highest total runs by hitting 6's and 4's\n",
    "batsman_highest_runs_2019 = batsman_sixes_fours_2019.idxmax()\n"
   ]
  },
  {
   "cell_type": "code",
   "execution_count": 23,
   "id": "5ada17de",
   "metadata": {},
   "outputs": [
    {
     "data": {
      "text/plain": [
       "'DA Warner'"
      ]
     },
     "execution_count": 23,
     "metadata": {},
     "output_type": "execute_result"
    }
   ],
   "source": [
    "batsman_highest_runs_2019"
   ]
  },
  {
   "cell_type": "code",
   "execution_count": 24,
   "id": "62345cdb",
   "metadata": {},
   "outputs": [
    {
     "data": {
      "text/plain": [
       "batsman\n",
       "ND Doshi            0.000000\n",
       "V Pratap Singh      0.000000\n",
       "IC Pandey           0.000000\n",
       "U Kaul              0.000000\n",
       "L Ablish            0.000000\n",
       "                     ...    \n",
       "AD Russell        179.950187\n",
       "S Sharma          200.000000\n",
       "RS Sodhi          200.000000\n",
       "Umar Gul          205.263158\n",
       "B Stanlake        250.000000\n",
       "Length: 516, dtype: float64"
      ]
     },
     "execution_count": 24,
     "metadata": {},
     "output_type": "execute_result"
    }
   ],
   "source": [
    "# Calculate strike rate for each batsman\n",
    "batsman_strike_rate = deliveries_df.groupby('batsman')['batsman_runs'].sum() / deliveries_df.groupby('batsman')['ball'].count() * 100\n",
    "\n",
    "# Find the batsman with the highest strike rate\n",
    "batsman_strike_rate.sort_values(ascending=True)\n"
   ]
  },
  {
   "cell_type": "code",
   "execution_count": 28,
   "id": "c890fb53",
   "metadata": {},
   "outputs": [
    {
     "name": "stdout",
     "output_type": "stream",
     "text": [
      "Answer 13: nan\n"
     ]
    },
    {
     "name": "stderr",
     "output_type": "stream",
     "text": [
      "C:\\Users\\shamb\\AppData\\Local\\Temp\\ipykernel_23516\\2788251304.py:3: RuntimeWarning: invalid value encountered in scalar divide\n",
      "  kohli_strike_rate_2016 = (kohli_2016['batsman_runs'].sum() / kohli_2016.shape[0]) * 100\n"
     ]
    }
   ],
   "source": [
    "#Strike rate of Kohli in 2016\n",
    "kohli_2016 = deliveries_df[(deliveries_df['batsman'] == 'V Kohli') & (matches_df['date'] == 2016)]\n",
    "kohli_strike_rate_2016 = (kohli_2016['batsman_runs'].sum() / kohli_2016.shape[0]) * 100\n",
    "answer_13 = round(kohli_strike_rate_2016, 2)\n",
    "print(\"Answer 13:\", answer_13)"
   ]
  },
  {
   "cell_type": "code",
   "execution_count": null,
   "id": "8bdae808",
   "metadata": {},
   "outputs": [],
   "source": []
  }
 ],
 "metadata": {
  "kernelspec": {
   "display_name": "Python 3 (ipykernel)",
   "language": "python",
   "name": "python3"
  },
  "language_info": {
   "codemirror_mode": {
    "name": "ipython",
    "version": 3
   },
   "file_extension": ".py",
   "mimetype": "text/x-python",
   "name": "python",
   "nbconvert_exporter": "python",
   "pygments_lexer": "ipython3",
   "version": "3.11.5"
  }
 },
 "nbformat": 4,
 "nbformat_minor": 5
}
